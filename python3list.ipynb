{
 "cells": [
  {
   "cell_type": "markdown",
   "id": "ef6e5c55-d3c9-4171-a655-53d537328465",
   "metadata": {},
   "source": [
    "question1\n",
    "create a empty list."
   ]
  },
  {
   "cell_type": "code",
   "execution_count": 6,
   "id": "cd403418-f14a-400e-95c8-3771dca92bb8",
   "metadata": {},
   "outputs": [],
   "source": [
    "s=[]"
   ]
  },
  {
   "cell_type": "code",
   "execution_count": 7,
   "id": "ea5c5b83-1160-4046-b624-e1e9965db249",
   "metadata": {},
   "outputs": [],
   "source": [
    "x=[2,3,6,7]"
   ]
  },
  {
   "cell_type": "code",
   "execution_count": 10,
   "id": "e182c403-5530-4422-988f-3247806ff6db",
   "metadata": {},
   "outputs": [],
   "source": [
    "x.append(2)"
   ]
  },
  {
   "cell_type": "code",
   "execution_count": 11,
   "id": "f3254809-a232-4e0e-872c-407292bf98ce",
   "metadata": {},
   "outputs": [
    {
     "data": {
      "text/plain": [
       "[2, 3, 6, 7, 2, 2]"
      ]
     },
     "execution_count": 11,
     "metadata": {},
     "output_type": "execute_result"
    }
   ],
   "source": [
    "x"
   ]
  },
  {
   "cell_type": "markdown",
   "id": "1abc7a00-8041-497c-83d8-8b2e6ee0a7c6",
   "metadata": {},
   "source": [
    "Question 3"
   ]
  },
  {
   "cell_type": "markdown",
   "id": "5afd9ed6-873a-4d1a-b4cf-e307ed597aa3",
   "metadata": {},
   "source": [
    "print last element of list"
   ]
  },
  {
   "cell_type": "code",
   "execution_count": 12,
   "id": "9e20a2b6-47a8-4454-9087-8f29453aa794",
   "metadata": {},
   "outputs": [],
   "source": [
    "s=['apple', 3,7,9]"
   ]
  },
  {
   "cell_type": "code",
   "execution_count": 13,
   "id": "ffb48901-a449-4fb3-bab1-26381f29c0e9",
   "metadata": {},
   "outputs": [
    {
     "data": {
      "text/plain": [
       "9"
      ]
     },
     "execution_count": 13,
     "metadata": {},
     "output_type": "execute_result"
    }
   ],
   "source": [
    "s[3]"
   ]
  },
  {
   "cell_type": "markdown",
   "id": "76c11e70-cac5-4d70-a650-90f54f4b8fea",
   "metadata": {},
   "source": [
    "Question 4 reverse the list."
   ]
  },
  {
   "cell_type": "code",
   "execution_count": 29,
   "id": "c627dd25-48bf-42e4-9c81-116c4f320720",
   "metadata": {},
   "outputs": [
    {
     "data": {
      "text/plain": [
       "[9, 7, 3, 'apple']"
      ]
     },
     "execution_count": 29,
     "metadata": {},
     "output_type": "execute_result"
    }
   ],
   "source": [
    "s[::-1]"
   ]
  },
  {
   "cell_type": "markdown",
   "id": "3e58370a-a446-4adf-a983-5717d1bb2ccd",
   "metadata": {},
   "source": [
    "Question 5 sort the list"
   ]
  },
  {
   "cell_type": "code",
   "execution_count": 30,
   "id": "4bfa4e35-a3f6-4785-9119-1a44c3d00306",
   "metadata": {},
   "outputs": [],
   "source": [
    "s1=[23,6,9,10]"
   ]
  },
  {
   "cell_type": "code",
   "execution_count": 31,
   "id": "8684d693-e73e-4696-a269-36f40f37f001",
   "metadata": {},
   "outputs": [],
   "source": [
    "s1.sort()"
   ]
  },
  {
   "cell_type": "code",
   "execution_count": 32,
   "id": "427d0a37-5b68-4dbf-84a3-983c7916c184",
   "metadata": {},
   "outputs": [
    {
     "data": {
      "text/plain": [
       "[6, 9, 10, 23]"
      ]
     },
     "execution_count": 32,
     "metadata": {},
     "output_type": "execute_result"
    }
   ],
   "source": [
    "s1"
   ]
  },
  {
   "cell_type": "markdown",
   "id": "0d0a3462-4631-4f0a-a76c-d7c36d04a95c",
   "metadata": {},
   "source": [
    "Question 6 printing second element of favourite movie list."
   ]
  },
  {
   "cell_type": "code",
   "execution_count": 35,
   "id": "e93af901-e3c4-49b6-8095-f494037d8264",
   "metadata": {},
   "outputs": [],
   "source": [
    "s2=['Dangal','Ms dhoni','Mother india']"
   ]
  },
  {
   "cell_type": "code",
   "execution_count": 36,
   "id": "e9952bbc-7da3-4975-9cac-240705bc468b",
   "metadata": {},
   "outputs": [
    {
     "data": {
      "text/plain": [
       "'Ms dhoni'"
      ]
     },
     "execution_count": 36,
     "metadata": {},
     "output_type": "execute_result"
    }
   ],
   "source": [
    "s2[1]"
   ]
  },
  {
   "cell_type": "markdown",
   "id": "c4c0b60d-2588-4c50-a42d-927b806c49c4",
   "metadata": {},
   "source": [
    "Question 7 craete favourite animal list and add one animal and print updated list."
   ]
  },
  {
   "cell_type": "code",
   "execution_count": 37,
   "id": "12575dd8-04fb-4857-abc5-980110481ae2",
   "metadata": {},
   "outputs": [],
   "source": [
    "s3=['dog','Cat','Cow','tiger']"
   ]
  },
  {
   "cell_type": "code",
   "execution_count": 42,
   "id": "31712529-1ba4-498b-a2c8-eabf652d5ebf",
   "metadata": {},
   "outputs": [],
   "source": [
    "s3.append('Deer')"
   ]
  },
  {
   "cell_type": "code",
   "execution_count": 43,
   "id": "0cd7f9e7-c60c-4455-9968-17f3c1c643ff",
   "metadata": {},
   "outputs": [
    {
     "data": {
      "text/plain": [
       "['dog', 'Cat', 'Cow', 'tiger', 'Deer']"
      ]
     },
     "execution_count": 43,
     "metadata": {},
     "output_type": "execute_result"
    }
   ],
   "source": [
    "s3"
   ]
  },
  {
   "cell_type": "code",
   "execution_count": 44,
   "id": "5ef04908-1d30-4724-b432-9079dffd4d36",
   "metadata": {},
   "outputs": [],
   "source": [
    "s3.insert(2,'rat')"
   ]
  },
  {
   "cell_type": "code",
   "execution_count": 45,
   "id": "30a07257-13be-4215-8dbf-3d680f6a5749",
   "metadata": {},
   "outputs": [
    {
     "data": {
      "text/plain": [
       "['dog', 'Cat', 'rat', 'Cow', 'tiger', 'Deer']"
      ]
     },
     "execution_count": 45,
     "metadata": {},
     "output_type": "execute_result"
    }
   ],
   "source": [
    "s3"
   ]
  },
  {
   "cell_type": "markdown",
   "id": "2aa27af5-042b-4eff-b029-04bf6e91f467",
   "metadata": {},
   "source": [
    "Question 8 using index() to print specific city in the list."
   ]
  },
  {
   "cell_type": "code",
   "execution_count": 46,
   "id": "73dac5d4-57a6-4084-a0d5-6145ed46103f",
   "metadata": {},
   "outputs": [],
   "source": [
    "s4=['Solapur','Nashik','Mumbai','Delhi','Pune']"
   ]
  },
  {
   "cell_type": "code",
   "execution_count": 48,
   "id": "99b55eba-3cba-4213-848b-01e8bbe0f9dd",
   "metadata": {},
   "outputs": [
    {
     "data": {
      "text/plain": [
       "2"
      ]
     },
     "execution_count": 48,
     "metadata": {},
     "output_type": "execute_result"
    }
   ],
   "source": [
    "s4.index('Mumbai')"
   ]
  },
  {
   "cell_type": "code",
   "execution_count": 50,
   "id": "1c9344c2-f406-436d-92ab-3fd60081eefd",
   "metadata": {},
   "outputs": [
    {
     "data": {
      "text/plain": [
       "'Mumbai'"
      ]
     },
     "execution_count": 50,
     "metadata": {},
     "output_type": "execute_result"
    }
   ],
   "source": [
    "s4[2]"
   ]
  },
  {
   "cell_type": "code",
   "execution_count": null,
   "id": "ca29d24e-79de-4d2f-b52c-00bbfbdaca96",
   "metadata": {},
   "outputs": [],
   "source": []
  }
 ],
 "metadata": {
  "kernelspec": {
   "display_name": "Python 3 (ipykernel)",
   "language": "python",
   "name": "python3"
  },
  "language_info": {
   "codemirror_mode": {
    "name": "ipython",
    "version": 3
   },
   "file_extension": ".py",
   "mimetype": "text/x-python",
   "name": "python",
   "nbconvert_exporter": "python",
   "pygments_lexer": "ipython3",
   "version": "3.10.8"
  }
 },
 "nbformat": 4,
 "nbformat_minor": 5
}
